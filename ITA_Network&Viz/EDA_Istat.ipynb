{
 "cells": [
  {
   "cell_type": "code",
   "execution_count": 37,
   "metadata": {},
   "outputs": [],
   "source": [
    "import pandas as pd"
   ]
  },
  {
   "cell_type": "code",
   "execution_count": 39,
   "metadata": {},
   "outputs": [],
   "source": [
    "kdr = pd.read_csv(\"comuni.csv\", skiprows= 1)"
   ]
  },
  {
   "cell_type": "code",
   "execution_count": 43,
   "metadata": {},
   "outputs": [],
   "source": [
    "data = kdr[kdr.Età == 999]"
   ]
  },
  {
   "cell_type": "code",
   "execution_count": 45,
   "metadata": {},
   "outputs": [
    {
     "name": "stderr",
     "output_type": "stream",
     "text": [
      "/Users/simoneazeglio/opt/anaconda3/envs/ipykernel_py3/lib/python3.8/site-packages/pandas/core/frame.py:3990: SettingWithCopyWarning: \n",
      "A value is trying to be set on a copy of a slice from a DataFrame\n",
      "\n",
      "See the caveats in the documentation: https://pandas.pydata.org/pandas-docs/stable/user_guide/indexing.html#returning-a-view-versus-a-copy\n",
      "  return super().drop(\n"
     ]
    }
   ],
   "source": [
    "data.drop(data.columns.difference(['Codice comune','Denominazione', 'Totale Maschi', 'Totale Femmine']), 1, inplace=True)"
   ]
  },
  {
   "cell_type": "code",
   "execution_count": 48,
   "metadata": {},
   "outputs": [
    {
     "name": "stderr",
     "output_type": "stream",
     "text": [
      "<ipython-input-48-035cd5e7aec1>:1: SettingWithCopyWarning: \n",
      "A value is trying to be set on a copy of a slice from a DataFrame.\n",
      "Try using .loc[row_indexer,col_indexer] = value instead\n",
      "\n",
      "See the caveats in the documentation: https://pandas.pydata.org/pandas-docs/stable/user_guide/indexing.html#returning-a-view-versus-a-copy\n",
      "  data[\"Totale Abitanti\"] = data[\"Totale Maschi\"] + data[\"Totale Femmine\"]\n"
     ]
    }
   ],
   "source": [
    "data[\"Totale Abitanti\"] = data[\"Totale Maschi\"] + data[\"Totale Femmine\"]"
   ]
  },
  {
   "cell_type": "code",
   "execution_count": 49,
   "metadata": {},
   "outputs": [
    {
     "data": {
      "text/html": [
       "<div>\n",
       "<style scoped>\n",
       "    .dataframe tbody tr th:only-of-type {\n",
       "        vertical-align: middle;\n",
       "    }\n",
       "\n",
       "    .dataframe tbody tr th {\n",
       "        vertical-align: top;\n",
       "    }\n",
       "\n",
       "    .dataframe thead th {\n",
       "        text-align: right;\n",
       "    }\n",
       "</style>\n",
       "<table border=\"1\" class=\"dataframe\">\n",
       "  <thead>\n",
       "    <tr style=\"text-align: right;\">\n",
       "      <th></th>\n",
       "      <th>Codice comune</th>\n",
       "      <th>Denominazione</th>\n",
       "      <th>Totale Maschi</th>\n",
       "      <th>Totale Femmine</th>\n",
       "      <th>Totale Abitanti</th>\n",
       "    </tr>\n",
       "  </thead>\n",
       "  <tbody>\n",
       "    <tr>\n",
       "      <th>101</th>\n",
       "      <td>1001</td>\n",
       "      <td>Agliè</td>\n",
       "      <td>1237</td>\n",
       "      <td>1398</td>\n",
       "      <td>2635</td>\n",
       "    </tr>\n",
       "    <tr>\n",
       "      <th>203</th>\n",
       "      <td>1002</td>\n",
       "      <td>Airasca</td>\n",
       "      <td>1873</td>\n",
       "      <td>1808</td>\n",
       "      <td>3681</td>\n",
       "    </tr>\n",
       "    <tr>\n",
       "      <th>305</th>\n",
       "      <td>1003</td>\n",
       "      <td>Ala di Stura</td>\n",
       "      <td>238</td>\n",
       "      <td>215</td>\n",
       "      <td>453</td>\n",
       "    </tr>\n",
       "    <tr>\n",
       "      <th>407</th>\n",
       "      <td>1004</td>\n",
       "      <td>Albiano d'Ivrea</td>\n",
       "      <td>808</td>\n",
       "      <td>838</td>\n",
       "      <td>1646</td>\n",
       "    </tr>\n",
       "    <tr>\n",
       "      <th>509</th>\n",
       "      <td>1006</td>\n",
       "      <td>Almese</td>\n",
       "      <td>3121</td>\n",
       "      <td>3257</td>\n",
       "      <td>6378</td>\n",
       "    </tr>\n",
       "    <tr>\n",
       "      <th>...</th>\n",
       "      <td>...</td>\n",
       "      <td>...</td>\n",
       "      <td>...</td>\n",
       "      <td>...</td>\n",
       "      <td>...</td>\n",
       "    </tr>\n",
       "    <tr>\n",
       "      <th>808043</th>\n",
       "      <td>111103</td>\n",
       "      <td>Villaputzu</td>\n",
       "      <td>2302</td>\n",
       "      <td>2363</td>\n",
       "      <td>4665</td>\n",
       "    </tr>\n",
       "    <tr>\n",
       "      <th>808145</th>\n",
       "      <td>111104</td>\n",
       "      <td>Villasalto</td>\n",
       "      <td>510</td>\n",
       "      <td>521</td>\n",
       "      <td>1031</td>\n",
       "    </tr>\n",
       "    <tr>\n",
       "      <th>808247</th>\n",
       "      <td>111105</td>\n",
       "      <td>Villasimius</td>\n",
       "      <td>1888</td>\n",
       "      <td>1842</td>\n",
       "      <td>3730</td>\n",
       "    </tr>\n",
       "    <tr>\n",
       "      <th>808349</th>\n",
       "      <td>111106</td>\n",
       "      <td>Villasor</td>\n",
       "      <td>3470</td>\n",
       "      <td>3450</td>\n",
       "      <td>6920</td>\n",
       "    </tr>\n",
       "    <tr>\n",
       "      <th>808451</th>\n",
       "      <td>111107</td>\n",
       "      <td>Villaspeciosa</td>\n",
       "      <td>1308</td>\n",
       "      <td>1289</td>\n",
       "      <td>2597</td>\n",
       "    </tr>\n",
       "  </tbody>\n",
       "</table>\n",
       "<p>7926 rows × 5 columns</p>\n",
       "</div>"
      ],
      "text/plain": [
       "        Codice comune    Denominazione  Totale Maschi  Totale Femmine  \\\n",
       "101              1001            Agliè           1237            1398   \n",
       "203              1002          Airasca           1873            1808   \n",
       "305              1003     Ala di Stura            238             215   \n",
       "407              1004  Albiano d'Ivrea            808             838   \n",
       "509              1006           Almese           3121            3257   \n",
       "...               ...              ...            ...             ...   \n",
       "808043         111103       Villaputzu           2302            2363   \n",
       "808145         111104       Villasalto            510             521   \n",
       "808247         111105      Villasimius           1888            1842   \n",
       "808349         111106         Villasor           3470            3450   \n",
       "808451         111107    Villaspeciosa           1308            1289   \n",
       "\n",
       "        Totale Abitanti  \n",
       "101                2635  \n",
       "203                3681  \n",
       "305                 453  \n",
       "407                1646  \n",
       "509                6378  \n",
       "...                 ...  \n",
       "808043             4665  \n",
       "808145             1031  \n",
       "808247             3730  \n",
       "808349             6920  \n",
       "808451             2597  \n",
       "\n",
       "[7926 rows x 5 columns]"
      ]
     },
     "execution_count": 49,
     "metadata": {},
     "output_type": "execute_result"
    }
   ],
   "source": [
    "data"
   ]
  },
  {
   "cell_type": "code",
   "execution_count": 51,
   "metadata": {},
   "outputs": [],
   "source": [
    "data.to_csv(\"comuni_final.csv\")"
   ]
  },
  {
   "cell_type": "code",
   "execution_count": null,
   "metadata": {},
   "outputs": [],
   "source": []
  }
 ],
 "metadata": {
  "kernelspec": {
   "display_name": "Python 3",
   "language": "python",
   "name": "python3"
  },
  "language_info": {
   "codemirror_mode": {
    "name": "ipython",
    "version": 3
   },
   "file_extension": ".py",
   "mimetype": "text/x-python",
   "name": "python",
   "nbconvert_exporter": "python",
   "pygments_lexer": "ipython3",
   "version": "3.7.3"
  }
 },
 "nbformat": 4,
 "nbformat_minor": 4
}

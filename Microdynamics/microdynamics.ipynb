{
 "cells": [
  {
   "cell_type": "markdown",
   "metadata": {},
   "source": [
    "# 0. Libraries import"
   ]
  },
  {
   "cell_type": "code",
   "execution_count": 1,
   "metadata": {},
   "outputs": [],
   "source": [
    "import numpy as np\n",
    "import timeit\n",
    "from tqdm import tqdm\n",
    "import networkx as nx\n",
    "from scipy.sparse import dok_matrix,csr_matrix\n",
    "import collections\n",
    "import matplotlib.pyplot as plt"
   ]
  },
  {
   "cell_type": "markdown",
   "metadata": {},
   "source": [
    "Check that we are using the intel python distribution"
   ]
  },
  {
   "cell_type": "code",
   "execution_count": 2,
   "metadata": {},
   "outputs": [
    {
     "name": "stdout",
     "output_type": "stream",
     "text": [
      "/home/mrcharles/anaconda3/envs/tensorflow/bin/python\n"
     ]
    }
   ],
   "source": [
    "!which python"
   ]
  },
  {
   "cell_type": "markdown",
   "metadata": {},
   "source": [
    "# 1. Numba class creation"
   ]
  },
  {
   "cell_type": "code",
   "execution_count": 3,
   "metadata": {},
   "outputs": [],
   "source": [
    "from numba import jitclass,njit,jit\n",
    "from numba import int64, float64\n",
    "from numba import prange"
   ]
  },
  {
   "cell_type": "code",
   "execution_count": 4,
   "metadata": {},
   "outputs": [],
   "source": [
    "spec = [\n",
    "    ('size',int64),\n",
    "    ('alpha',float64[:])\n",
    "]\n",
    "\n",
    "\n",
    "#for some strange reason np.random.dirichlet is not compatible with numba\n",
    "#in the following I define a new just in time class used to sample a dirichlet by normalizing\n",
    "#a vector of gammas\n",
    "\n",
    "@jitclass(spec)\n",
    "class Dirichlet(object):\n",
    "    \n",
    "    def __init__(self, size=10, alpha=0.1):\n",
    "        self.size = size\n",
    "        self.alpha = np.ones(self.size) * alpha\n",
    "       \n",
    "    def sample(self):\n",
    "        \n",
    "        dirichlet = np.zeros(self.size,dtype=np.float64)\n",
    "\n",
    "        #prange comes from numba and allows to parallelize the cycle\n",
    "        for i in prange(self.size):\n",
    "            \n",
    "            #draw the gamma for each component\n",
    "            dirichlet[i] = np.random.gamma(1,self.alpha[i])\n",
    "        \n",
    "        #normalize each component\n",
    "        dirichlet = dirichlet/np.sum(dirichlet)\n",
    "        \n",
    "        #due to numerical instablity we set the first component as a residual in order\n",
    "        #to make the vector sum to 1\n",
    "        dirichlet[0] += (1- np.sum(dirichlet))\n",
    "        \n",
    "        return dirichlet\n",
    "        \n",
    "        \n",
    "        \n",
    "    def update(self,indexes,step):\n",
    "        \n",
    "        #method used in order to make more likely a future draw from a given node\n",
    "        #indexes should be a tuple conatining the indexes of the linked edges\n",
    "        \n",
    "        self.alpha[indexes[0]] += step\n",
    "        self.alpha[indexes[1]] += step\n",
    "\n",
    "        \n",
    "        \n",
    "spec2 = [\n",
    "    ('size',int64),\n",
    "    ('pdist',float64[:])\n",
    "]\n",
    "       \n",
    "        \n",
    "#We also define a multinomial class in order to draw the edges to link according to the prob distr\n",
    "#sampled from the dirichlet\n",
    "@jitclass(spec2)\n",
    "class Multinomial(object):\n",
    "    \n",
    "    def __init__(self, size=1, pdist=np.ones):\n",
    "        self.pdist = pdist/len(pdist)\n",
    "        self.size = size\n",
    "    \n",
    "    \n",
    "    def sample(self):\n",
    "        \n",
    "        #we draw from a multinomial and we extract the non 0 index, corresponding to the node to link\n",
    "        draw1 = np.random.multinomial(n=self.size,pvals=self.pdist)\n",
    "        draw1 = np.argwhere(draw1)[0][0]\n",
    "        \n",
    "        \n",
    "        draw2 = np.random.multinomial(n=self.size,pvals=self.pdist)\n",
    "        draw2 = np.argwhere(draw2)[0][0]\n",
    "        \n",
    "\n",
    "        return (draw1,draw2)\n",
    "    \n",
    "    def set_pvals(self,pdist):\n",
    "        \n",
    "        #used to set the prob dist drawn from the dirichlet\n",
    "        self.pdist = pdist"
   ]
  },
  {
   "cell_type": "markdown",
   "metadata": {},
   "source": [
    "# 2. Graph creation"
   ]
  },
  {
   "cell_type": "code",
   "execution_count": 5,
   "metadata": {},
   "outputs": [],
   "source": [
    "###creating sparse adjacency matrix\n",
    "#this box runs fast, could be made faster by using numba\n",
    "############## Family creation ##############################\n",
    "\n",
    "pop_size = 60000 \n",
    "\n",
    "#me define the initial matrix using the dok format. This allows\n",
    "#to add the edges relative to the family in an iterative way\n",
    "adjacency = dok_matrix((pop_size,pop_size),dtype=np.bool)\n",
    "\n",
    "\n",
    "#we stop when the pop size reaches the desired dimension\n",
    "i=0\n",
    "while i <pop_size:\n",
    "    \n",
    "    #we start by drawing the dimension of the population from a poisson distribution\n",
    "    family_size = max(1,np.random.poisson(lam=2))\n",
    "    \n",
    "    \n",
    "    try:\n",
    "        \n",
    "        #we use a double cycle to connect each member of the family to everyone else in the family\n",
    "        for k in range(family_size):\n",
    "\n",
    "            for j in range(family_size):\n",
    "\n",
    "                adjacency[i+k,i+j] = 1\n",
    "\n",
    "        i = i+family_size\n",
    "    \n",
    "    \n",
    "    \n",
    "    #except used in order to add the last family\n",
    "    except:\n",
    "        \n",
    "        \n",
    "        remainder_size = pop_size - i\n",
    "        \n",
    "        for k in range(remainder_size):\n",
    "\n",
    "            for j in range(remainder_size):\n",
    "\n",
    "                adjacency[i+k,i+j] = 1\n",
    "\n",
    "        i=pop_size"
   ]
  },
  {
   "cell_type": "code",
   "execution_count": 6,
   "metadata": {},
   "outputs": [],
   "source": [
    "@jit(nopython=True,parallel=True)\n",
    "def faster_link_sampling(adjacency,links_to_add,dir_sampler,multi_sampler):\n",
    "    \n",
    "    for i in prange(links_to_add):\n",
    "        \n",
    "        #extract the prob dist from the dirichlet\n",
    "        pdist = dir_sampler.sample()\n",
    "        \n",
    "        #use the sampled distrib to draw the node indexes to connect\n",
    "        multi_sampler.set_pvals(pdist)\n",
    "        \n",
    "        #extract the two indeces of the graph\n",
    "        vertex_a,vertex_b = multi_sampler.sample()\n",
    "        \n",
    "        #we don't want to add self loops\n",
    "        if(vertex_a != vertex_b):\n",
    "        \n",
    "            #add the link in the adj matrix (both ways)\n",
    "            adjacency[vertex_a,vertex_b] = True\n",
    "            adjacency[vertex_b,vertex_a] = True\n",
    "            \n",
    "            #update weights on extracted vertices in order to make new connections more likely\n",
    "            dir_sampler.update((vertex_a,vertex_b),0.1)  \n",
    "        \n",
    "    return adjacency"
   ]
  },
  {
   "cell_type": "code",
   "execution_count": 7,
   "metadata": {},
   "outputs": [],
   "source": [
    "####initial values for faster_link sampling\n",
    "\n",
    "#initializing the dirichlet sampler\n",
    "dir_sampler = Dirichlet(size=pop_size,alpha=1)\n",
    "\n",
    "#first distribution coming from the dirichlet sampler\n",
    "pdist = dir_sampler.sample()\n",
    "\n",
    "#define the multinomial sampler\n",
    "multi_sampler = Multinomial(size=1,pdist=pdist)\n",
    "\n",
    "#number of link to add with the rich gets richer dynamics\n",
    "links_to_add = pop_size*3"
   ]
  },
  {
   "cell_type": "code",
   "execution_count": 8,
   "metadata": {},
   "outputs": [
    {
     "data": {
      "text/plain": [
       "array([[False, False, False, ..., False, False, False],\n",
       "       [False, False, False, ..., False, False, False],\n",
       "       [False, False, False, ..., False, False, False],\n",
       "       ...,\n",
       "       [False, False, False, ..., False, False, False],\n",
       "       [False, False, False, ..., False, False, False],\n",
       "       [False, False, False, ..., False, False, False]])"
      ]
     },
     "execution_count": 8,
     "metadata": {},
     "output_type": "execute_result"
    }
   ],
   "source": [
    "#we define a a matrix with the same shape and data type of the one generated for the familes\n",
    "adjacency_zeros = np.zeros((pop_size,pop_size),dtype=np.bool)\n",
    "adjacency_zeros\n",
    "\n",
    "#old command to define the link matrix\n",
    "#adjacency_zeros = np.zeros_like(adjacency.todense())"
   ]
  },
  {
   "cell_type": "code",
   "execution_count": 9,
   "metadata": {},
   "outputs": [
    {
     "data": {
      "text/plain": [
       "array([[False, False, False, ..., False, False, False],\n",
       "       [False, False, False, ..., False, False, False],\n",
       "       [False, False, False, ..., False, False, False],\n",
       "       ...,\n",
       "       [False, False, False, ..., False, False, False],\n",
       "       [False, False, False, ..., False, False, False],\n",
       "       [False, False, False, ..., False, False, False]])"
      ]
     },
     "execution_count": 9,
     "metadata": {},
     "output_type": "execute_result"
    }
   ],
   "source": [
    "#note that in order to make use of just in time compilation the numba function has to be called once\n",
    "#below we call it for the first time in order to take advantage of compilation speed up\n",
    "faster_link_sampling(adjacency_zeros,1,dir_sampler,multi_sampler)"
   ]
  },
  {
   "cell_type": "code",
   "execution_count": 10,
   "metadata": {},
   "outputs": [],
   "source": [
    "#%timeit faster_link_sampling(adjacency_zeros,60000,dir_sampler,multi_sampler)"
   ]
  },
  {
   "cell_type": "code",
   "execution_count": 11,
   "metadata": {},
   "outputs": [
    {
     "data": {
      "text/plain": [
       "array([[False, False, False, ..., False, False, False],\n",
       "       [False, False, False, ..., False, False, False],\n",
       "       [False, False, False, ..., False, False, False],\n",
       "       ...,\n",
       "       [False, False, False, ..., False, False, False],\n",
       "       [False, False, False, ..., False, False, False],\n",
       "       [False, False, False, ..., False, False, False]])"
      ]
     },
     "execution_count": 11,
     "metadata": {},
     "output_type": "execute_result"
    }
   ],
   "source": [
    "#the function directly modifies the adjacency matrix passed\n",
    "faster_link_sampling(adjacency_zeros,links_to_add,dir_sampler,multi_sampler)"
   ]
  },
  {
   "cell_type": "code",
   "execution_count": 14,
   "metadata": {},
   "outputs": [],
   "source": [
    "#we convert the dense matrix into a sparse one\n",
    "links_to_add = csr_matrix(adjacency_zeros)"
   ]
  },
  {
   "cell_type": "code",
   "execution_count": 15,
   "metadata": {},
   "outputs": [
    {
     "data": {
      "text/plain": [
       "<60000x60000 sparse matrix of type '<class 'numpy.bool_'>'\n",
       "\twith 171494 stored elements in Dictionary Of Keys format>"
      ]
     },
     "execution_count": 15,
     "metadata": {},
     "output_type": "execute_result"
    }
   ],
   "source": [
    "adjacency"
   ]
  },
  {
   "cell_type": "code",
   "execution_count": 16,
   "metadata": {},
   "outputs": [
    {
     "data": {
      "text/plain": [
       "<60000x60000 sparse matrix of type '<class 'numpy.bool_'>'\n",
       "\twith 339884 stored elements in Compressed Sparse Row format>"
      ]
     },
     "execution_count": 16,
     "metadata": {},
     "output_type": "execute_result"
    }
   ],
   "source": [
    "links_to_add"
   ]
  },
  {
   "cell_type": "code",
   "execution_count": 17,
   "metadata": {},
   "outputs": [],
   "source": [
    "#since the sparse matrix are defined as booleans, we can add the links to family matrix\n",
    "#just by summing the two matrices and taking advatage of boolean algebra\n",
    "adjacency = adjacency+links_to_add"
   ]
  },
  {
   "cell_type": "code",
   "execution_count": 18,
   "metadata": {},
   "outputs": [
    {
     "data": {
      "text/plain": [
       "<60000x60000 sparse matrix of type '<class 'numpy.bool_'>'\n",
       "\twith 511368 stored elements in Compressed Sparse Column format>"
      ]
     },
     "execution_count": 18,
     "metadata": {},
     "output_type": "execute_result"
    }
   ],
   "source": [
    "adjacency"
   ]
  },
  {
   "cell_type": "markdown",
   "metadata": {},
   "source": [
    "# 3. Graph diagnostics"
   ]
  },
  {
   "cell_type": "code",
   "execution_count": 22,
   "metadata": {},
   "outputs": [],
   "source": [
    "G = nx.from_scipy_sparse_matrix(adjacency)"
   ]
  },
  {
   "cell_type": "code",
   "execution_count": 23,
   "metadata": {},
   "outputs": [
    {
     "data": {
      "text/plain": [
       "False"
      ]
     },
     "execution_count": 23,
     "metadata": {},
     "output_type": "execute_result"
    }
   ],
   "source": [
    "nx.is_connected(G)"
   ]
  },
  {
   "cell_type": "code",
   "execution_count": 24,
   "metadata": {},
   "outputs": [
    {
     "data": {
      "text/plain": [
       "153"
      ]
     },
     "execution_count": 24,
     "metadata": {},
     "output_type": "execute_result"
    }
   ],
   "source": [
    "nx.number_connected_components(G)"
   ]
  },
  {
   "cell_type": "code",
   "execution_count": 29,
   "metadata": {},
   "outputs": [
    {
     "data": {
      "text/plain": [
       "[59844, 3, 2, 2, 1]"
      ]
     },
     "execution_count": 29,
     "metadata": {},
     "output_type": "execute_result"
    }
   ],
   "source": [
    "#component dimension, we print the dimensions of the five largest components\n",
    "[len(c) for c in sorted(nx.connected_components(G), key=len, reverse=True)][:5]"
   ]
  },
  {
   "cell_type": "code",
   "execution_count": 27,
   "metadata": {},
   "outputs": [
    {
     "data": {
      "image/png": "[encoded data removed]",
      "text/plain": [
       "<Figure size 432x288 with 1 Axes>"
      ]
     },
     "metadata": {
      "needs_background": "light"
     },
     "output_type": "display_data"
    }
   ],
   "source": [
    "degree_sequence = sorted([d for n, d in G.degree()], reverse=True)  # degree sequence\n",
    "# print \"Degree sequence\", degree_sequence\n",
    "degreeCount = collections.Counter(degree_sequence)\n",
    "deg, cnt = zip(*degreeCount.items())\n",
    "\n",
    "fig, ax = plt.subplots()\n",
    "plt.bar(deg, cnt, width=0.80, color='b')\n",
    "\n",
    "plt.title(\"Degree Histogram\")\n",
    "plt.ylabel(\"Count\")\n",
    "plt.xlabel(\"Degree\")\n",
    "ax.set_xticks([d + 0.4 for d in deg])\n",
    "ax.set_xticklabels(deg);"
   ]
  },
  {
   "cell_type": "markdown",
   "metadata": {},
   "source": [
    "# Experimenting with dask (roba a caso)"
   ]
  },
  {
   "cell_type": "code",
   "execution_count": 5,
   "metadata": {},
   "outputs": [],
   "source": [
    "from dask import array as ar\n",
    "import sparse\n",
    "import numpy as np"
   ]
  },
  {
   "cell_type": "code",
   "execution_count": 11,
   "metadata": {},
   "outputs": [],
   "source": [
    "x = ar.random.binomial(1,p=0.0001,size=(100000,100000)).map_blocks(sparse.COO).astype(np.bool, copy=True)"
   ]
  },
  {
   "cell_type": "code",
   "execution_count": 12,
   "metadata": {},
   "outputs": [
    {
     "data": {
      "text/html": [
       "<table><tbody><tr><th style=\"text-align: left\">Format</th><td style=\"text-align: left\">coo</td></tr><tr><th style=\"text-align: left\">Data Type</th><td style=\"text-align: left\">bool</td></tr><tr><th style=\"text-align: left\">Shape</th><td style=\"text-align: left\">(100000, 100000)</td></tr><tr><th style=\"text-align: left\">nnz</th><td style=\"text-align: left\">1001066</td></tr><tr><th style=\"text-align: left\">Density</th><td style=\"text-align: left\">0.0001001066</td></tr><tr><th style=\"text-align: left\">Read-only</th><td style=\"text-align: left\">True</td></tr><tr><th style=\"text-align: left\">Size</th><td style=\"text-align: left\">16.2M</td></tr><tr><th style=\"text-align: left\">Storage ratio</th><td style=\"text-align: left\">0.0</td></tr></tbody></table>"
      ],
      "text/plain": [
       "<COO: shape=(100000, 100000), dtype=bool, nnz=1001066, fill_value=False>"
      ]
     },
     "execution_count": 12,
     "metadata": {},
     "output_type": "execute_result"
    }
   ],
   "source": [
    "x.compute()"
   ]
  },
  {
   "cell_type": "code",
   "execution_count": 13,
   "metadata": {},
   "outputs": [],
   "source": [
    "y = ar.random.binomial(1,p=0.0001,size=(100000,100000)).map_blocks(sparse.COO).astype(np.bool, copy=True)"
   ]
  },
  {
   "cell_type": "code",
   "execution_count": 14,
   "metadata": {},
   "outputs": [
    {
     "data": {
      "text/html": [
       "<table><tbody><tr><th style=\"text-align: left\">Format</th><td style=\"text-align: left\">coo</td></tr><tr><th style=\"text-align: left\">Data Type</th><td style=\"text-align: left\">bool</td></tr><tr><th style=\"text-align: left\">Shape</th><td style=\"text-align: left\">(100000, 100000)</td></tr><tr><th style=\"text-align: left\">nnz</th><td style=\"text-align: left\">1000776</td></tr><tr><th style=\"text-align: left\">Density</th><td style=\"text-align: left\">0.0001000776</td></tr><tr><th style=\"text-align: left\">Read-only</th><td style=\"text-align: left\">True</td></tr><tr><th style=\"text-align: left\">Size</th><td style=\"text-align: left\">16.2M</td></tr><tr><th style=\"text-align: left\">Storage ratio</th><td style=\"text-align: left\">0.0</td></tr></tbody></table>"
      ],
      "text/plain": [
       "<COO: shape=(100000, 100000), dtype=bool, nnz=1000776, fill_value=False>"
      ]
     },
     "execution_count": 14,
     "metadata": {},
     "output_type": "execute_result"
    }
   ],
   "source": [
    "y.compute()"
   ]
  },
  {
   "cell_type": "code",
   "execution_count": 17,
   "metadata": {},
   "outputs": [
    {
     "data": {
      "text/html": [
       "<table>\n",
       "<tr>\n",
       "<td>\n",
       "<table>\n",
       "  <thead>\n",
       "    <tr><td> </td><th> Array </th><th> Chunk </th></tr>\n",
       "  </thead>\n",
       "  <tbody>\n",
       "\n",
       "    <tr><th> Shape </th><td> (100000, 100000) </td> <td> (4000, 4000) </td></tr>\n",
       "    <tr><th> Count </th><td> 3752 Tasks </td><td> 625 Chunks </td></tr>\n",
       "    <tr><th> Type </th><td> bool </td><td> sparse.COO </td></tr>\n",
       "  </tbody>\n",
       "</table>\n",
       "</td>\n",
       "<td>\n",
       "<svg width=\"170\" height=\"170\" style=\"stroke:rgb(0,0,0);stroke-width:1\" >\n",
       "\n",
       "  <!-- Horizontal lines -->\n",
       "  <line x1=\"0\" y1=\"0\" x2=\"120\" y2=\"0\" style=\"stroke-width:2\" />\n",
       "  <line x1=\"0\" y1=\"4\" x2=\"120\" y2=\"4\" />\n",
       "  <line x1=\"0\" y1=\"9\" x2=\"120\" y2=\"9\" />\n",
       "  <line x1=\"0\" y1=\"14\" x2=\"120\" y2=\"14\" />\n",
       "  <line x1=\"0\" y1=\"19\" x2=\"120\" y2=\"19\" />\n",
       "  <line x1=\"0\" y1=\"24\" x2=\"120\" y2=\"24\" />\n",
       "  <line x1=\"0\" y1=\"28\" x2=\"120\" y2=\"28\" />\n",
       "  <line x1=\"0\" y1=\"33\" x2=\"120\" y2=\"33\" />\n",
       "  <line x1=\"0\" y1=\"38\" x2=\"120\" y2=\"38\" />\n",
       "  <line x1=\"0\" y1=\"43\" x2=\"120\" y2=\"43\" />\n",
       "  <line x1=\"0\" y1=\"48\" x2=\"120\" y2=\"48\" />\n",
       "  <line x1=\"0\" y1=\"52\" x2=\"120\" y2=\"52\" />\n",
       "  <line x1=\"0\" y1=\"57\" x2=\"120\" y2=\"57\" />\n",
       "  <line x1=\"0\" y1=\"62\" x2=\"120\" y2=\"62\" />\n",
       "  <line x1=\"0\" y1=\"67\" x2=\"120\" y2=\"67\" />\n",
       "  <line x1=\"0\" y1=\"72\" x2=\"120\" y2=\"72\" />\n",
       "  <line x1=\"0\" y1=\"76\" x2=\"120\" y2=\"76\" />\n",
       "  <line x1=\"0\" y1=\"81\" x2=\"120\" y2=\"81\" />\n",
       "  <line x1=\"0\" y1=\"86\" x2=\"120\" y2=\"86\" />\n",
       "  <line x1=\"0\" y1=\"91\" x2=\"120\" y2=\"91\" />\n",
       "  <line x1=\"0\" y1=\"96\" x2=\"120\" y2=\"96\" />\n",
       "  <line x1=\"0\" y1=\"100\" x2=\"120\" y2=\"100\" />\n",
       "  <line x1=\"0\" y1=\"105\" x2=\"120\" y2=\"105\" />\n",
       "  <line x1=\"0\" y1=\"110\" x2=\"120\" y2=\"110\" />\n",
       "  <line x1=\"0\" y1=\"115\" x2=\"120\" y2=\"115\" />\n",
       "  <line x1=\"0\" y1=\"120\" x2=\"120\" y2=\"120\" style=\"stroke-width:2\" />\n",
       "\n",
       "  <!-- Vertical lines -->\n",
       "  <line x1=\"0\" y1=\"0\" x2=\"0\" y2=\"120\" style=\"stroke-width:2\" />\n",
       "  <line x1=\"4\" y1=\"0\" x2=\"4\" y2=\"120\" />\n",
       "  <line x1=\"9\" y1=\"0\" x2=\"9\" y2=\"120\" />\n",
       "  <line x1=\"14\" y1=\"0\" x2=\"14\" y2=\"120\" />\n",
       "  <line x1=\"19\" y1=\"0\" x2=\"19\" y2=\"120\" />\n",
       "  <line x1=\"24\" y1=\"0\" x2=\"24\" y2=\"120\" />\n",
       "  <line x1=\"28\" y1=\"0\" x2=\"28\" y2=\"120\" />\n",
       "  <line x1=\"33\" y1=\"0\" x2=\"33\" y2=\"120\" />\n",
       "  <line x1=\"38\" y1=\"0\" x2=\"38\" y2=\"120\" />\n",
       "  <line x1=\"43\" y1=\"0\" x2=\"43\" y2=\"120\" />\n",
       "  <line x1=\"48\" y1=\"0\" x2=\"48\" y2=\"120\" />\n",
       "  <line x1=\"52\" y1=\"0\" x2=\"52\" y2=\"120\" />\n",
       "  <line x1=\"57\" y1=\"0\" x2=\"57\" y2=\"120\" />\n",
       "  <line x1=\"62\" y1=\"0\" x2=\"62\" y2=\"120\" />\n",
       "  <line x1=\"67\" y1=\"0\" x2=\"67\" y2=\"120\" />\n",
       "  <line x1=\"72\" y1=\"0\" x2=\"72\" y2=\"120\" />\n",
       "  <line x1=\"76\" y1=\"0\" x2=\"76\" y2=\"120\" />\n",
       "  <line x1=\"81\" y1=\"0\" x2=\"81\" y2=\"120\" />\n",
       "  <line x1=\"86\" y1=\"0\" x2=\"86\" y2=\"120\" />\n",
       "  <line x1=\"91\" y1=\"0\" x2=\"91\" y2=\"120\" />\n",
       "  <line x1=\"96\" y1=\"0\" x2=\"96\" y2=\"120\" />\n",
       "  <line x1=\"100\" y1=\"0\" x2=\"100\" y2=\"120\" />\n",
       "  <line x1=\"105\" y1=\"0\" x2=\"105\" y2=\"120\" />\n",
       "  <line x1=\"110\" y1=\"0\" x2=\"110\" y2=\"120\" />\n",
       "  <line x1=\"115\" y1=\"0\" x2=\"115\" y2=\"120\" />\n",
       "  <line x1=\"120\" y1=\"0\" x2=\"120\" y2=\"120\" style=\"stroke-width:2\" />\n",
       "\n",
       "  <!-- Colored Rectangle -->\n",
       "  <polygon points=\"0.000000,0.000000 120.000000,0.000000 120.000000,120.000000 0.000000,120.000000\" style=\"fill:#ECB172A0;stroke-width:0\"/>\n",
       "\n",
       "  <!-- Text -->\n",
       "  <text x=\"60.000000\" y=\"140.000000\" font-size=\"1.0rem\" font-weight=\"100\" text-anchor=\"middle\" >100000</text>\n",
       "  <text x=\"140.000000\" y=\"60.000000\" font-size=\"1.0rem\" font-weight=\"100\" text-anchor=\"middle\" transform=\"rotate(-90,140.000000,60.000000)\">100000</text>\n",
       "</svg>\n",
       "</td>\n",
       "</tr>\n",
       "</table>"
      ],
      "text/plain": [
       "dask.array<add, shape=(100000, 100000), dtype=bool, chunksize=(4000, 4000), chunktype=sparse.COO>"
      ]
     },
     "execution_count": 17,
     "metadata": {},
     "output_type": "execute_result"
    }
   ],
   "source": [
    "x+y.compute()"
   ]
  },
  {
   "cell_type": "code",
   "execution_count": null,
   "metadata": {},
   "outputs": [],
   "source": []
  }
 ],
 "metadata": {
  "kernelspec": {
   "display_name": "Python 3",
   "language": "python",
   "name": "python3"
  },
  "language_info": {
   "codemirror_mode": {
    "name": "ipython",
    "version": 3
   },
   "file_extension": ".py",
   "mimetype": "text/x-python",
   "name": "python",
   "nbconvert_exporter": "python",
   "pygments_lexer": "ipython3",
   "version": "3.6.10"
  }
 },
 "nbformat": 4,
 "nbformat_minor": 4
}

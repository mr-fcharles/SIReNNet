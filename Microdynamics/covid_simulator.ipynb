{
 "cells": [
  {
   "cell_type": "markdown",
   "metadata": {},
   "source": [
    "# Libraries import"
   ]
  },
  {
   "cell_type": "code",
   "execution_count": 1,
   "metadata": {},
   "outputs": [],
   "source": [
    "import warnings\n",
    "from numba.core.errors import NumbaDeprecationWarning\n",
    "warnings.filterwarnings('ignore',category=NumbaDeprecationWarning)"
   ]
  },
  {
   "cell_type": "code",
   "execution_count": 2,
   "metadata": {},
   "outputs": [],
   "source": [
    "from SIReNet.epidemics_graph import EpidemicsGraph"
   ]
  },
  {
   "cell_type": "markdown",
   "metadata": {},
   "source": [
    "# Graph initialization"
   ]
  },
  {
   "cell_type": "code",
   "execution_count": 3,
   "metadata": {},
   "outputs": [
    {
     "name": "stdout",
     "output_type": "stream",
     "text": [
      "/home/mrcharles/SIReNet_project\n"
     ]
    }
   ],
   "source": [
    "!pwd"
   ]
  },
  {
   "cell_type": "code",
   "execution_count": 4,
   "metadata": {},
   "outputs": [],
   "source": [
    "city = EpidemicsGraph(pop_size=10000)\n",
    "city.sampler_initializer()"
   ]
  },
  {
   "cell_type": "code",
   "execution_count": 5,
   "metadata": {},
   "outputs": [],
   "source": [
    "city.create_families()"
   ]
  },
  {
   "cell_type": "code",
   "execution_count": 6,
   "metadata": {},
   "outputs": [
    {
     "data": {
      "text/plain": [
       "<10000x10000 sparse matrix of type '<class 'numpy.bool_'>'\n",
       "\twith 17958 stored elements in Dictionary Of Keys format>"
      ]
     },
     "execution_count": 6,
     "metadata": {},
     "output_type": "execute_result"
    }
   ],
   "source": [
    "city.adjacency"
   ]
  },
  {
   "cell_type": "code",
   "execution_count": 7,
   "metadata": {},
   "outputs": [],
   "source": [
    "city.add_links(get_richer_step=1)"
   ]
  },
  {
   "cell_type": "code",
   "execution_count": 8,
   "metadata": {},
   "outputs": [
    {
     "data": {
      "image/png": "[encoded data removed]",
      "text/plain": [
       "<Figure size 432x288 with 1 Axes>"
      ]
     },
     "metadata": {
      "needs_background": "light"
     },
     "output_type": "display_data"
    }
   ],
   "source": [
    "city.build_nx_graph()\n",
    "city.degree_distribution()"
   ]
  },
  {
   "cell_type": "code",
   "execution_count": 9,
   "metadata": {},
   "outputs": [
    {
     "data": {
      "text/plain": [
       "[9926, 3, 2, 2, 2, 2, 2, 2, 2, 2]"
      ]
     },
     "execution_count": 9,
     "metadata": {},
     "output_type": "execute_result"
    }
   ],
   "source": [
    "city.components_dimension()[:10]"
   ]
  },
  {
   "cell_type": "code",
   "execution_count": 10,
   "metadata": {},
   "outputs": [
    {
     "data": {
      "text/plain": [
       "<10000x10000 sparse matrix of type '<class 'numpy.int16'>'\n",
       "\twith 646230 stored elements in Dictionary Of Keys format>"
      ]
     },
     "execution_count": 10,
     "metadata": {},
     "output_type": "execute_result"
    }
   ],
   "source": [
    "city.compute_common_neighbors()"
   ]
  },
  {
   "cell_type": "markdown",
   "metadata": {},
   "source": [
    "# Dynamics"
   ]
  },
  {
   "cell_type": "code",
   "execution_count": 11,
   "metadata": {},
   "outputs": [],
   "source": [
    "city.initialize_individual_factors()"
   ]
  },
  {
   "cell_type": "code",
   "execution_count": 12,
   "metadata": {},
   "outputs": [
    {
     "name": "stdout",
     "output_type": "stream",
     "text": [
      "487 people have been infected\n"
     ]
    }
   ],
   "source": [
    "city.start_infection(contagion_probability=0.05)"
   ]
  },
  {
   "cell_type": "code",
   "execution_count": 13,
   "metadata": {},
   "outputs": [
    {
     "ename": "SyntaxError",
     "evalue": "positional argument follows keyword argument (<ipython-input-13-093f9495d45c>, line 2)",
     "output_type": "error",
     "traceback": [
      "\u001b[0;36m  File \u001b[0;32m\"<ipython-input-13-093f9495d45c>\"\u001b[0;36m, line \u001b[0;32m2\u001b[0m\n\u001b[0;31m    city.propagate_infection(mu=2,time)\u001b[0m\n\u001b[0m                                 ^\u001b[0m\n\u001b[0;31mSyntaxError\u001b[0m\u001b[0;31m:\u001b[0m positional argument follows keyword argument\n"
     ]
    }
   ],
   "source": [
    "for i in range(10):\n",
    "    city.propagate_infection(mu=2,time)\n",
    "\n",
    "city.propagation_stats()"
   ]
  },
  {
   "cell_type": "code",
   "execution_count": null,
   "metadata": {},
   "outputs": [],
   "source": [
    "city.export_graph()"
   ]
  },
  {
   "cell_type": "markdown",
   "metadata": {},
   "source": [
    "# Neural net"
   ]
  },
  {
   "cell_type": "code",
   "execution_count": 15,
   "metadata": {},
   "outputs": [],
   "source": [
    "import scipy.sparse as sp\n",
    "from sklearn.preprocessing import StandardScaler\n",
    "\n",
    "import time\n",
    "import numpy as np\n",
    "import pandas as pd\n",
    "\n",
    "import torch\n",
    "import torch.nn.functional as F\n",
    "import torch.optim as optim\n",
    "\n",
    "from pygcn.utils import load_data, accuracy\n",
    "from pygcn.models import GCN\n",
    "from pygcn.utils import normalize\n",
    "from pygcn.utils import  sparse_mx_to_torch_sparse_tensor\n",
    "\n",
    "from SIReNet.utils import  IndexSampler"
   ]
  },
  {
   "cell_type": "code",
   "execution_count": 16,
   "metadata": {},
   "outputs": [
    {
     "data": {
      "text/plain": [
       "'GeForce RTX 2070'"
      ]
     },
     "execution_count": 16,
     "metadata": {},
     "output_type": "execute_result"
    }
   ],
   "source": [
    "torch.cuda.get_device_name()"
   ]
  },
  {
   "cell_type": "code",
   "execution_count": 17,
   "metadata": {},
   "outputs": [],
   "source": [
    "#fix seeds for reproducibility\n",
    "np.random.seed(42)\n",
    "torch.manual_seed(42)\n",
    "torch.cuda.manual_seed(42)"
   ]
  },
  {
   "cell_type": "code",
   "execution_count": 18,
   "metadata": {},
   "outputs": [
    {
     "name": "stdout",
     "output_type": "stream",
     "text": [
      "0.595832551154496\n",
      "5327\n"
     ]
    }
   ],
   "source": [
    "#load exported data\n",
    "adj = sp.load_npz('adjacency.npz')\n",
    "adj = normalize(adj)\n",
    "\n",
    "features = pd.read_csv('node_features.csv')\n",
    "indexes = features.index.values\n",
    "labels = features['labels'].values\n",
    "\n",
    "print(np.sum(labels)/labels.shape[0])\n",
    "\n",
    "features = features.drop(['labels'],axis=1)\n",
    "feature_transformer =  StandardScaler()\n",
    "features = feature_transformer.fit_transform(features)\n",
    "\n",
    "features = torch.FloatTensor(features)\n",
    "labels = torch.LongTensor(labels)\n",
    "adj = sparse_mx_to_torch_sparse_tensor(adj)\n",
    "\n",
    "\n",
    "print(len(indexes))"
   ]
  },
  {
   "cell_type": "code",
   "execution_count": 19,
   "metadata": {},
   "outputs": [
    {
     "name": "stdout",
     "output_type": "stream",
     "text": [
      "3327\n",
      "2327\n"
     ]
    }
   ],
   "source": [
    "#indexes\n",
    "idx_sampler = IndexSampler(indexes)\n",
    "idx_train = torch.LongTensor(idx_sampler.sample(n_samples=2000))\n",
    "idx_val = torch.LongTensor(idx_sampler.sample(n_samples=1000))\n",
    "idx_test = torch.LongTensor(idx_sampler.sample_remaining())"
   ]
  },
  {
   "cell_type": "code",
   "execution_count": 24,
   "metadata": {},
   "outputs": [
    {
     "name": "stdout",
     "output_type": "stream",
     "text": [
      "torch.Size([5327, 5327])\n",
      "torch.Size([5327, 3])\n",
      "torch.Size([5327])\n",
      "torch.Size([2000])\n",
      "torch.Size([1000])\n",
      "torch.Size([2327])\n"
     ]
    }
   ],
   "source": [
    "print(adj.shape)\n",
    "print(features.shape)\n",
    "print(labels.shape)\n",
    "print(idx_train.shape)\n",
    "print(idx_val.shape)\n",
    "print(idx_test.shape)"
   ]
  },
  {
   "cell_type": "code",
   "execution_count": 25,
   "metadata": {},
   "outputs": [],
   "source": [
    "#model\n",
    "model = GCN(nfeat=features.shape[1],\n",
    "            nhid=16,\n",
    "            nclass=labels.max().item() + 1,\n",
    "            dropout=0.5)\n",
    "optimizer = optim.Adam(model.parameters(),\n",
    "                       lr=0.01, weight_decay=5e-4)"
   ]
  },
  {
   "cell_type": "code",
   "execution_count": 26,
   "metadata": {},
   "outputs": [],
   "source": [
    "#move tensors to cuda\n",
    "model.cuda()\n",
    "features = features.cuda()\n",
    "adj = adj.cuda()\n",
    "labels = labels.cuda()\n",
    "idx_train = idx_train.cuda()\n",
    "idx_val = idx_val.cuda()\n",
    "idx_test = idx_test.cuda()"
   ]
  },
  {
   "cell_type": "code",
   "execution_count": 27,
   "metadata": {},
   "outputs": [
    {
     "name": "stdout",
     "output_type": "stream",
     "text": [
      "Epoch: 0001 loss_train: 0.8819 acc_train: 0.4140 loss_val: 0.8764 acc_val: 0.3880 time: 0.3402s\n",
      "Epoch: 0002 loss_train: 0.8556 acc_train: 0.4140 loss_val: 0.8506 acc_val: 0.3880 time: 0.0031s\n",
      "Epoch: 0003 loss_train: 0.8294 acc_train: 0.4140 loss_val: 0.8262 acc_val: 0.3880 time: 0.0030s\n",
      "Epoch: 0004 loss_train: 0.8112 acc_train: 0.4135 loss_val: 0.8031 acc_val: 0.3880 time: 0.0028s\n",
      "Epoch: 0005 loss_train: 0.7897 acc_train: 0.4140 loss_val: 0.7813 acc_val: 0.3880 time: 0.0030s\n",
      "Epoch: 0006 loss_train: 0.7701 acc_train: 0.4130 loss_val: 0.7606 acc_val: 0.3880 time: 0.0030s\n",
      "Epoch: 0007 loss_train: 0.7545 acc_train: 0.4125 loss_val: 0.7410 acc_val: 0.3880 time: 0.0029s\n",
      "Epoch: 0008 loss_train: 0.7377 acc_train: 0.4165 loss_val: 0.7224 acc_val: 0.3880 time: 0.0030s\n",
      "Epoch: 0009 loss_train: 0.7163 acc_train: 0.4265 loss_val: 0.7048 acc_val: 0.3880 time: 0.0030s\n",
      "Epoch: 0010 loss_train: 0.7055 acc_train: 0.4450 loss_val: 0.6882 acc_val: 0.3950 time: 0.0030s\n",
      "Epoch: 0011 loss_train: 0.6918 acc_train: 0.4810 loss_val: 0.6725 acc_val: 0.5010 time: 0.0028s\n",
      "Epoch: 0012 loss_train: 0.6794 acc_train: 0.5210 loss_val: 0.6577 acc_val: 0.6400 time: 0.0029s\n",
      "Epoch: 0013 loss_train: 0.6638 acc_train: 0.5925 loss_val: 0.6439 acc_val: 0.6970 time: 0.0031s\n",
      "Epoch: 0014 loss_train: 0.6546 acc_train: 0.6380 loss_val: 0.6311 acc_val: 0.7310 time: 0.0030s\n",
      "Epoch: 0015 loss_train: 0.6456 acc_train: 0.6495 loss_val: 0.6193 acc_val: 0.7440 time: 0.0030s\n",
      "Epoch: 0016 loss_train: 0.6306 acc_train: 0.6855 loss_val: 0.6083 acc_val: 0.7390 time: 0.0028s\n",
      "Epoch: 0017 loss_train: 0.6260 acc_train: 0.6910 loss_val: 0.5982 acc_val: 0.7380 time: 0.0030s\n",
      "Epoch: 0018 loss_train: 0.6172 acc_train: 0.6895 loss_val: 0.5890 acc_val: 0.7330 time: 0.0030s\n",
      "Epoch: 0019 loss_train: 0.6145 acc_train: 0.7050 loss_val: 0.5806 acc_val: 0.7340 time: 0.0030s\n",
      "Epoch: 0020 loss_train: 0.6082 acc_train: 0.6945 loss_val: 0.5728 acc_val: 0.7360 time: 0.0030s\n",
      "Epoch: 0021 loss_train: 0.6011 acc_train: 0.7110 loss_val: 0.5657 acc_val: 0.7400 time: 0.0030s\n",
      "Epoch: 0022 loss_train: 0.5917 acc_train: 0.7095 loss_val: 0.5591 acc_val: 0.7400 time: 0.0030s\n",
      "Epoch: 0023 loss_train: 0.5897 acc_train: 0.7200 loss_val: 0.5530 acc_val: 0.7400 time: 0.0031s\n",
      "Epoch: 0024 loss_train: 0.5783 acc_train: 0.7225 loss_val: 0.5472 acc_val: 0.7450 time: 0.0030s\n",
      "Epoch: 0025 loss_train: 0.5876 acc_train: 0.7155 loss_val: 0.5420 acc_val: 0.7480 time: 0.0030s\n",
      "Epoch: 0026 loss_train: 0.5756 acc_train: 0.7180 loss_val: 0.5373 acc_val: 0.7550 time: 0.0030s\n",
      "Epoch: 0027 loss_train: 0.5727 acc_train: 0.7175 loss_val: 0.5332 acc_val: 0.7600 time: 0.0030s\n",
      "Epoch: 0028 loss_train: 0.5711 acc_train: 0.7270 loss_val: 0.5298 acc_val: 0.7580 time: 0.0030s\n",
      "Epoch: 0029 loss_train: 0.5661 acc_train: 0.7310 loss_val: 0.5271 acc_val: 0.7560 time: 0.0030s\n",
      "Epoch: 0030 loss_train: 0.5598 acc_train: 0.7380 loss_val: 0.5249 acc_val: 0.7570 time: 0.0030s\n",
      "Epoch: 0031 loss_train: 0.5578 acc_train: 0.7340 loss_val: 0.5231 acc_val: 0.7530 time: 0.0030s\n",
      "Epoch: 0032 loss_train: 0.5646 acc_train: 0.7295 loss_val: 0.5215 acc_val: 0.7540 time: 0.0030s\n",
      "Epoch: 0033 loss_train: 0.5652 acc_train: 0.7280 loss_val: 0.5201 acc_val: 0.7540 time: 0.0031s\n",
      "Epoch: 0034 loss_train: 0.5557 acc_train: 0.7295 loss_val: 0.5186 acc_val: 0.7570 time: 0.0030s\n",
      "Epoch: 0035 loss_train: 0.5680 acc_train: 0.7400 loss_val: 0.5170 acc_val: 0.7560 time: 0.0030s\n",
      "Epoch: 0036 loss_train: 0.5600 acc_train: 0.7430 loss_val: 0.5154 acc_val: 0.7590 time: 0.0030s\n",
      "Epoch: 0037 loss_train: 0.5618 acc_train: 0.7380 loss_val: 0.5139 acc_val: 0.7590 time: 0.0030s\n",
      "Epoch: 0038 loss_train: 0.5483 acc_train: 0.7345 loss_val: 0.5126 acc_val: 0.7590 time: 0.0030s\n",
      "Epoch: 0039 loss_train: 0.5673 acc_train: 0.7320 loss_val: 0.5116 acc_val: 0.7630 time: 0.0030s\n",
      "Epoch: 0040 loss_train: 0.5546 acc_train: 0.7410 loss_val: 0.5106 acc_val: 0.7640 time: 0.0030s\n",
      "Epoch: 0041 loss_train: 0.5485 acc_train: 0.7420 loss_val: 0.5098 acc_val: 0.7670 time: 0.0030s\n",
      "Epoch: 0042 loss_train: 0.5398 acc_train: 0.7520 loss_val: 0.5091 acc_val: 0.7700 time: 0.0030s\n",
      "Epoch: 0043 loss_train: 0.5449 acc_train: 0.7420 loss_val: 0.5085 acc_val: 0.7690 time: 0.0030s\n",
      "Epoch: 0044 loss_train: 0.5477 acc_train: 0.7515 loss_val: 0.5080 acc_val: 0.7680 time: 0.0028s\n",
      "Epoch: 0045 loss_train: 0.5407 acc_train: 0.7515 loss_val: 0.5074 acc_val: 0.7690 time: 0.0030s\n",
      "Epoch: 0046 loss_train: 0.5525 acc_train: 0.7400 loss_val: 0.5070 acc_val: 0.7720 time: 0.0030s\n",
      "Epoch: 0047 loss_train: 0.5576 acc_train: 0.7500 loss_val: 0.5067 acc_val: 0.7720 time: 0.0030s\n",
      "Epoch: 0048 loss_train: 0.5532 acc_train: 0.7435 loss_val: 0.5065 acc_val: 0.7720 time: 0.0030s\n",
      "Epoch: 0049 loss_train: 0.5527 acc_train: 0.7400 loss_val: 0.5064 acc_val: 0.7690 time: 0.0028s\n",
      "Epoch: 0050 loss_train: 0.5457 acc_train: 0.7480 loss_val: 0.5063 acc_val: 0.7690 time: 0.0028s\n",
      "Epoch: 0051 loss_train: 0.5410 acc_train: 0.7485 loss_val: 0.5061 acc_val: 0.7680 time: 0.0028s\n",
      "Epoch: 0052 loss_train: 0.5422 acc_train: 0.7525 loss_val: 0.5060 acc_val: 0.7680 time: 0.0030s\n",
      "Epoch: 0053 loss_train: 0.5498 acc_train: 0.7450 loss_val: 0.5058 acc_val: 0.7680 time: 0.0030s\n",
      "Epoch: 0054 loss_train: 0.5328 acc_train: 0.7555 loss_val: 0.5057 acc_val: 0.7680 time: 0.0030s\n",
      "Epoch: 0055 loss_train: 0.5330 acc_train: 0.7600 loss_val: 0.5056 acc_val: 0.7680 time: 0.0030s\n",
      "Epoch: 0056 loss_train: 0.5418 acc_train: 0.7510 loss_val: 0.5055 acc_val: 0.7700 time: 0.0030s\n",
      "Epoch: 0057 loss_train: 0.5359 acc_train: 0.7505 loss_val: 0.5054 acc_val: 0.7710 time: 0.0031s\n",
      "Epoch: 0058 loss_train: 0.5337 acc_train: 0.7655 loss_val: 0.5052 acc_val: 0.7710 time: 0.0030s\n",
      "Epoch: 0059 loss_train: 0.5322 acc_train: 0.7610 loss_val: 0.5050 acc_val: 0.7720 time: 0.0030s\n",
      "Epoch: 0060 loss_train: 0.5404 acc_train: 0.7630 loss_val: 0.5047 acc_val: 0.7720 time: 0.0030s\n",
      "Epoch: 0061 loss_train: 0.5407 acc_train: 0.7580 loss_val: 0.5044 acc_val: 0.7740 time: 0.0031s\n",
      "Epoch: 0062 loss_train: 0.5321 acc_train: 0.7715 loss_val: 0.5041 acc_val: 0.7730 time: 0.0030s\n",
      "Epoch: 0063 loss_train: 0.5294 acc_train: 0.7505 loss_val: 0.5039 acc_val: 0.7730 time: 0.0030s\n",
      "Epoch: 0064 loss_train: 0.5396 acc_train: 0.7605 loss_val: 0.5036 acc_val: 0.7730 time: 0.0030s\n",
      "Epoch: 0065 loss_train: 0.5274 acc_train: 0.7695 loss_val: 0.5035 acc_val: 0.7740 time: 0.0030s\n",
      "Epoch: 0066 loss_train: 0.5298 acc_train: 0.7530 loss_val: 0.5033 acc_val: 0.7750 time: 0.0031s\n",
      "Epoch: 0067 loss_train: 0.5330 acc_train: 0.7550 loss_val: 0.5030 acc_val: 0.7760 time: 0.0030s\n",
      "Epoch: 0068 loss_train: 0.5473 acc_train: 0.7640 loss_val: 0.5028 acc_val: 0.7760 time: 0.0031s\n",
      "Epoch: 0069 loss_train: 0.5320 acc_train: 0.7570 loss_val: 0.5025 acc_val: 0.7750 time: 0.0031s\n",
      "Epoch: 0070 loss_train: 0.5245 acc_train: 0.7705 loss_val: 0.5023 acc_val: 0.7750 time: 0.0030s\n",
      "Epoch: 0071 loss_train: 0.5292 acc_train: 0.7605 loss_val: 0.5021 acc_val: 0.7770 time: 0.0031s\n",
      "Epoch: 0072 loss_train: 0.5259 acc_train: 0.7555 loss_val: 0.5018 acc_val: 0.7780 time: 0.0028s\n",
      "Epoch: 0073 loss_train: 0.5284 acc_train: 0.7560 loss_val: 0.5015 acc_val: 0.7780 time: 0.0029s\n",
      "Epoch: 0074 loss_train: 0.5261 acc_train: 0.7640 loss_val: 0.5011 acc_val: 0.7770 time: 0.0031s\n",
      "Epoch: 0075 loss_train: 0.5317 acc_train: 0.7555 loss_val: 0.5008 acc_val: 0.7780 time: 0.0028s\n",
      "Epoch: 0076 loss_train: 0.5340 acc_train: 0.7555 loss_val: 0.5006 acc_val: 0.7800 time: 0.0030s\n",
      "Epoch: 0077 loss_train: 0.5242 acc_train: 0.7680 loss_val: 0.5003 acc_val: 0.7800 time: 0.0030s\n",
      "Epoch: 0078 loss_train: 0.5258 acc_train: 0.7640 loss_val: 0.4999 acc_val: 0.7800 time: 0.0030s\n",
      "Epoch: 0079 loss_train: 0.5213 acc_train: 0.7730 loss_val: 0.4997 acc_val: 0.7790 time: 0.0030s\n",
      "Epoch: 0080 loss_train: 0.5251 acc_train: 0.7675 loss_val: 0.4994 acc_val: 0.7780 time: 0.0030s\n",
      "Epoch: 0081 loss_train: 0.5225 acc_train: 0.7735 loss_val: 0.4991 acc_val: 0.7790 time: 0.0030s\n",
      "Epoch: 0082 loss_train: 0.5274 acc_train: 0.7720 loss_val: 0.4987 acc_val: 0.7790 time: 0.0030s\n",
      "Epoch: 0083 loss_train: 0.5217 acc_train: 0.7705 loss_val: 0.4983 acc_val: 0.7780 time: 0.0030s\n",
      "Epoch: 0084 loss_train: 0.5305 acc_train: 0.7640 loss_val: 0.4980 acc_val: 0.7780 time: 0.0028s\n",
      "Epoch: 0085 loss_train: 0.5202 acc_train: 0.7685 loss_val: 0.4977 acc_val: 0.7780 time: 0.0030s\n",
      "Epoch: 0086 loss_train: 0.5273 acc_train: 0.7620 loss_val: 0.4974 acc_val: 0.7790 time: 0.0030s\n",
      "Epoch: 0087 loss_train: 0.5289 acc_train: 0.7780 loss_val: 0.4971 acc_val: 0.7800 time: 0.0030s\n",
      "Epoch: 0088 loss_train: 0.5260 acc_train: 0.7615 loss_val: 0.4969 acc_val: 0.7850 time: 0.0030s\n",
      "Epoch: 0089 loss_train: 0.5279 acc_train: 0.7705 loss_val: 0.4968 acc_val: 0.7840 time: 0.0030s\n",
      "Epoch: 0090 loss_train: 0.5310 acc_train: 0.7595 loss_val: 0.4967 acc_val: 0.7840 time: 0.0030s\n",
      "Epoch: 0091 loss_train: 0.5154 acc_train: 0.7780 loss_val: 0.4965 acc_val: 0.7860 time: 0.0030s\n",
      "Epoch: 0092 loss_train: 0.5182 acc_train: 0.7755 loss_val: 0.4962 acc_val: 0.7860 time: 0.0030s\n",
      "Epoch: 0093 loss_train: 0.5182 acc_train: 0.7700 loss_val: 0.4959 acc_val: 0.7850 time: 0.0030s\n",
      "Epoch: 0094 loss_train: 0.5210 acc_train: 0.7765 loss_val: 0.4956 acc_val: 0.7850 time: 0.0029s\n",
      "Epoch: 0095 loss_train: 0.5196 acc_train: 0.7720 loss_val: 0.4953 acc_val: 0.7870 time: 0.0030s\n",
      "Epoch: 0096 loss_train: 0.5240 acc_train: 0.7610 loss_val: 0.4951 acc_val: 0.7860 time: 0.0028s\n",
      "Epoch: 0097 loss_train: 0.5247 acc_train: 0.7730 loss_val: 0.4949 acc_val: 0.7870 time: 0.0030s\n",
      "Epoch: 0098 loss_train: 0.5160 acc_train: 0.7760 loss_val: 0.4947 acc_val: 0.7860 time: 0.0030s\n",
      "Epoch: 0099 loss_train: 0.5142 acc_train: 0.7765 loss_val: 0.4946 acc_val: 0.7850 time: 0.0030s\n",
      "Epoch: 0100 loss_train: 0.5150 acc_train: 0.7770 loss_val: 0.4945 acc_val: 0.7850 time: 0.0030s\n",
      "Epoch: 0101 loss_train: 0.5215 acc_train: 0.7650 loss_val: 0.4943 acc_val: 0.7880 time: 0.0028s\n",
      "Epoch: 0102 loss_train: 0.5296 acc_train: 0.7695 loss_val: 0.4943 acc_val: 0.7870 time: 0.0030s\n",
      "Epoch: 0103 loss_train: 0.5096 acc_train: 0.7695 loss_val: 0.4941 acc_val: 0.7860 time: 0.0030s\n",
      "Epoch: 0104 loss_train: 0.5157 acc_train: 0.7785 loss_val: 0.4940 acc_val: 0.7860 time: 0.0030s\n",
      "Epoch: 0105 loss_train: 0.5135 acc_train: 0.7715 loss_val: 0.4938 acc_val: 0.7860 time: 0.0030s\n",
      "Epoch: 0106 loss_train: 0.5152 acc_train: 0.7745 loss_val: 0.4935 acc_val: 0.7870 time: 0.0030s\n",
      "Epoch: 0107 loss_train: 0.5115 acc_train: 0.7810 loss_val: 0.4933 acc_val: 0.7880 time: 0.0030s\n",
      "Epoch: 0108 loss_train: 0.5110 acc_train: 0.7740 loss_val: 0.4932 acc_val: 0.7890 time: 0.0030s\n",
      "Epoch: 0109 loss_train: 0.5185 acc_train: 0.7665 loss_val: 0.4930 acc_val: 0.7890 time: 0.0030s\n",
      "Epoch: 0110 loss_train: 0.5123 acc_train: 0.7775 loss_val: 0.4927 acc_val: 0.7890 time: 0.0030s\n",
      "Epoch: 0111 loss_train: 0.5190 acc_train: 0.7735 loss_val: 0.4924 acc_val: 0.7890 time: 0.0030s\n",
      "Epoch: 0112 loss_train: 0.5127 acc_train: 0.7820 loss_val: 0.4922 acc_val: 0.7900 time: 0.0030s\n",
      "Epoch: 0113 loss_train: 0.5101 acc_train: 0.7845 loss_val: 0.4920 acc_val: 0.7910 time: 0.0030s\n",
      "Epoch: 0114 loss_train: 0.5097 acc_train: 0.7745 loss_val: 0.4918 acc_val: 0.7910 time: 0.0030s\n",
      "Epoch: 0115 loss_train: 0.5135 acc_train: 0.7715 loss_val: 0.4917 acc_val: 0.7900 time: 0.0029s\n",
      "Epoch: 0116 loss_train: 0.5177 acc_train: 0.7705 loss_val: 0.4916 acc_val: 0.7910 time: 0.0030s\n",
      "Epoch: 0117 loss_train: 0.5193 acc_train: 0.7825 loss_val: 0.4915 acc_val: 0.7890 time: 0.0030s\n",
      "Epoch: 0118 loss_train: 0.5029 acc_train: 0.7750 loss_val: 0.4914 acc_val: 0.7900 time: 0.0030s\n",
      "Epoch: 0119 loss_train: 0.5105 acc_train: 0.7740 loss_val: 0.4912 acc_val: 0.7900 time: 0.0028s\n",
      "Epoch: 0120 loss_train: 0.5117 acc_train: 0.7695 loss_val: 0.4910 acc_val: 0.7900 time: 0.0030s\n",
      "Epoch: 0121 loss_train: 0.5077 acc_train: 0.7770 loss_val: 0.4908 acc_val: 0.7910 time: 0.0028s\n",
      "Epoch: 0122 loss_train: 0.5087 acc_train: 0.7860 loss_val: 0.4906 acc_val: 0.7920 time: 0.0028s\n",
      "Epoch: 0123 loss_train: 0.5111 acc_train: 0.7775 loss_val: 0.4905 acc_val: 0.7920 time: 0.0030s\n",
      "Epoch: 0124 loss_train: 0.5061 acc_train: 0.7805 loss_val: 0.4903 acc_val: 0.7910 time: 0.0028s\n",
      "Epoch: 0125 loss_train: 0.5070 acc_train: 0.7720 loss_val: 0.4901 acc_val: 0.7910 time: 0.0029s\n",
      "Epoch: 0126 loss_train: 0.5071 acc_train: 0.7795 loss_val: 0.4900 acc_val: 0.7900 time: 0.0029s\n",
      "Epoch: 0127 loss_train: 0.5066 acc_train: 0.7800 loss_val: 0.4898 acc_val: 0.7910 time: 0.0030s\n",
      "Epoch: 0128 loss_train: 0.5126 acc_train: 0.7740 loss_val: 0.4895 acc_val: 0.7910 time: 0.0028s\n",
      "Epoch: 0129 loss_train: 0.5124 acc_train: 0.7630 loss_val: 0.4893 acc_val: 0.7910 time: 0.0030s\n",
      "Epoch: 0130 loss_train: 0.5046 acc_train: 0.7850 loss_val: 0.4890 acc_val: 0.7930 time: 0.0030s\n",
      "Epoch: 0131 loss_train: 0.5147 acc_train: 0.7705 loss_val: 0.4888 acc_val: 0.7930 time: 0.0030s\n",
      "Epoch: 0132 loss_train: 0.5128 acc_train: 0.7690 loss_val: 0.4887 acc_val: 0.7930 time: 0.0030s\n",
      "Epoch: 0133 loss_train: 0.5080 acc_train: 0.7820 loss_val: 0.4886 acc_val: 0.7930 time: 0.0030s\n",
      "Epoch: 0134 loss_train: 0.5039 acc_train: 0.7780 loss_val: 0.4885 acc_val: 0.7940 time: 0.0030s\n",
      "Epoch: 0135 loss_train: 0.5120 acc_train: 0.7805 loss_val: 0.4884 acc_val: 0.7940 time: 0.0030s\n",
      "Epoch: 0136 loss_train: 0.5141 acc_train: 0.7880 loss_val: 0.4883 acc_val: 0.7940 time: 0.0030s\n",
      "Epoch: 0137 loss_train: 0.4994 acc_train: 0.7790 loss_val: 0.4882 acc_val: 0.7940 time: 0.0030s\n",
      "Epoch: 0138 loss_train: 0.5152 acc_train: 0.7775 loss_val: 0.4881 acc_val: 0.7940 time: 0.0030s\n",
      "Epoch: 0139 loss_train: 0.5036 acc_train: 0.7835 loss_val: 0.4880 acc_val: 0.7940 time: 0.0028s\n",
      "Epoch: 0140 loss_train: 0.5018 acc_train: 0.7825 loss_val: 0.4879 acc_val: 0.7960 time: 0.0030s\n",
      "Epoch: 0141 loss_train: 0.5067 acc_train: 0.7835 loss_val: 0.4879 acc_val: 0.7960 time: 0.0028s\n",
      "Epoch: 0142 loss_train: 0.5073 acc_train: 0.7830 loss_val: 0.4878 acc_val: 0.7960 time: 0.0030s\n",
      "Epoch: 0143 loss_train: 0.5112 acc_train: 0.7805 loss_val: 0.4877 acc_val: 0.7960 time: 0.0030s\n",
      "Epoch: 0144 loss_train: 0.5103 acc_train: 0.7830 loss_val: 0.4875 acc_val: 0.7950 time: 0.0030s\n",
      "Epoch: 0145 loss_train: 0.5141 acc_train: 0.7885 loss_val: 0.4874 acc_val: 0.7960 time: 0.0030s\n",
      "Epoch: 0146 loss_train: 0.5098 acc_train: 0.7745 loss_val: 0.4873 acc_val: 0.7970 time: 0.0030s\n",
      "Epoch: 0147 loss_train: 0.4997 acc_train: 0.7940 loss_val: 0.4872 acc_val: 0.7960 time: 0.0031s\n",
      "Epoch: 0148 loss_train: 0.5056 acc_train: 0.7785 loss_val: 0.4872 acc_val: 0.7960 time: 0.0030s\n",
      "Epoch: 0149 loss_train: 0.5067 acc_train: 0.7825 loss_val: 0.4872 acc_val: 0.7970 time: 0.0030s\n",
      "Epoch: 0150 loss_train: 0.5051 acc_train: 0.7815 loss_val: 0.4871 acc_val: 0.7970 time: 0.0030s\n",
      "Epoch: 0151 loss_train: 0.5056 acc_train: 0.7890 loss_val: 0.4870 acc_val: 0.7970 time: 0.0030s\n",
      "Epoch: 0152 loss_train: 0.5043 acc_train: 0.7915 loss_val: 0.4870 acc_val: 0.7970 time: 0.0030s\n",
      "Epoch: 0153 loss_train: 0.4969 acc_train: 0.7845 loss_val: 0.4869 acc_val: 0.7970 time: 0.0030s\n",
      "Epoch: 0154 loss_train: 0.5053 acc_train: 0.7825 loss_val: 0.4868 acc_val: 0.7970 time: 0.0028s\n",
      "Epoch: 0155 loss_train: 0.5036 acc_train: 0.7875 loss_val: 0.4867 acc_val: 0.7970 time: 0.0030s\n",
      "Epoch: 0156 loss_train: 0.5091 acc_train: 0.7880 loss_val: 0.4866 acc_val: 0.7970 time: 0.0030s\n",
      "Epoch: 0157 loss_train: 0.5047 acc_train: 0.7900 loss_val: 0.4865 acc_val: 0.7970 time: 0.0030s\n",
      "Epoch: 0158 loss_train: 0.5060 acc_train: 0.7870 loss_val: 0.4865 acc_val: 0.7970 time: 0.0030s\n",
      "Epoch: 0159 loss_train: 0.5135 acc_train: 0.7810 loss_val: 0.4864 acc_val: 0.7970 time: 0.0030s\n",
      "Epoch: 0160 loss_train: 0.5025 acc_train: 0.7895 loss_val: 0.4862 acc_val: 0.7980 time: 0.0030s\n",
      "Epoch: 0161 loss_train: 0.5014 acc_train: 0.7950 loss_val: 0.4860 acc_val: 0.7990 time: 0.0028s\n",
      "Epoch: 0162 loss_train: 0.4925 acc_train: 0.7905 loss_val: 0.4858 acc_val: 0.8010 time: 0.0030s\n",
      "Epoch: 0163 loss_train: 0.4980 acc_train: 0.7930 loss_val: 0.4856 acc_val: 0.8010 time: 0.0030s\n",
      "Epoch: 0164 loss_train: 0.5036 acc_train: 0.7895 loss_val: 0.4854 acc_val: 0.8030 time: 0.0030s\n",
      "Epoch: 0165 loss_train: 0.4975 acc_train: 0.7850 loss_val: 0.4852 acc_val: 0.8030 time: 0.0028s\n",
      "Epoch: 0166 loss_train: 0.5084 acc_train: 0.7875 loss_val: 0.4850 acc_val: 0.8030 time: 0.0028s\n",
      "Epoch: 0167 loss_train: 0.4966 acc_train: 0.7840 loss_val: 0.4849 acc_val: 0.8040 time: 0.0030s\n",
      "Epoch: 0168 loss_train: 0.5006 acc_train: 0.7885 loss_val: 0.4849 acc_val: 0.8040 time: 0.0030s\n",
      "Epoch: 0169 loss_train: 0.5061 acc_train: 0.7840 loss_val: 0.4849 acc_val: 0.8040 time: 0.0030s\n",
      "Epoch: 0170 loss_train: 0.5023 acc_train: 0.7860 loss_val: 0.4850 acc_val: 0.8030 time: 0.0030s\n",
      "Epoch: 0171 loss_train: 0.4995 acc_train: 0.7895 loss_val: 0.4850 acc_val: 0.8030 time: 0.0030s\n",
      "Epoch: 0172 loss_train: 0.4991 acc_train: 0.7905 loss_val: 0.4851 acc_val: 0.8020 time: 0.0030s\n",
      "Epoch: 0173 loss_train: 0.5059 acc_train: 0.7915 loss_val: 0.4851 acc_val: 0.8010 time: 0.0030s\n",
      "Epoch: 0174 loss_train: 0.4977 acc_train: 0.7855 loss_val: 0.4851 acc_val: 0.8010 time: 0.0030s\n",
      "Epoch: 0175 loss_train: 0.4959 acc_train: 0.7940 loss_val: 0.4851 acc_val: 0.8010 time: 0.0030s\n",
      "Epoch: 0176 loss_train: 0.4920 acc_train: 0.7890 loss_val: 0.4850 acc_val: 0.8020 time: 0.0030s\n",
      "Epoch: 0177 loss_train: 0.4948 acc_train: 0.7925 loss_val: 0.4849 acc_val: 0.8040 time: 0.0030s\n",
      "Epoch: 0178 loss_train: 0.4996 acc_train: 0.7800 loss_val: 0.4848 acc_val: 0.8040 time: 0.0030s\n",
      "Epoch: 0179 loss_train: 0.4955 acc_train: 0.7890 loss_val: 0.4847 acc_val: 0.8040 time: 0.0030s\n",
      "Epoch: 0180 loss_train: 0.5007 acc_train: 0.7800 loss_val: 0.4845 acc_val: 0.8050 time: 0.0030s\n",
      "Epoch: 0181 loss_train: 0.4982 acc_train: 0.7955 loss_val: 0.4845 acc_val: 0.8050 time: 0.0030s\n",
      "Epoch: 0182 loss_train: 0.4972 acc_train: 0.7880 loss_val: 0.4844 acc_val: 0.8040 time: 0.0030s\n",
      "Epoch: 0183 loss_train: 0.5011 acc_train: 0.7835 loss_val: 0.4843 acc_val: 0.8040 time: 0.0030s\n",
      "Epoch: 0184 loss_train: 0.4970 acc_train: 0.7880 loss_val: 0.4842 acc_val: 0.8050 time: 0.0030s\n",
      "Epoch: 0185 loss_train: 0.4958 acc_train: 0.7870 loss_val: 0.4841 acc_val: 0.8030 time: 0.0030s\n",
      "Epoch: 0186 loss_train: 0.4975 acc_train: 0.7845 loss_val: 0.4840 acc_val: 0.8030 time: 0.0028s\n",
      "Epoch: 0187 loss_train: 0.4981 acc_train: 0.7950 loss_val: 0.4838 acc_val: 0.8030 time: 0.0030s\n",
      "Epoch: 0188 loss_train: 0.4987 acc_train: 0.7885 loss_val: 0.4838 acc_val: 0.8030 time: 0.0030s\n",
      "Epoch: 0189 loss_train: 0.4888 acc_train: 0.7905 loss_val: 0.4836 acc_val: 0.8040 time: 0.0028s\n",
      "Epoch: 0190 loss_train: 0.4938 acc_train: 0.7940 loss_val: 0.4835 acc_val: 0.8050 time: 0.0030s\n",
      "Epoch: 0191 loss_train: 0.5044 acc_train: 0.7910 loss_val: 0.4834 acc_val: 0.8050 time: 0.0030s\n",
      "Epoch: 0192 loss_train: 0.4888 acc_train: 0.7975 loss_val: 0.4832 acc_val: 0.8050 time: 0.0030s\n",
      "Epoch: 0193 loss_train: 0.5044 acc_train: 0.7810 loss_val: 0.4831 acc_val: 0.8050 time: 0.0028s\n",
      "Epoch: 0194 loss_train: 0.5025 acc_train: 0.7935 loss_val: 0.4831 acc_val: 0.8040 time: 0.0030s\n",
      "Epoch: 0195 loss_train: 0.5031 acc_train: 0.7845 loss_val: 0.4829 acc_val: 0.8050 time: 0.0028s\n",
      "Epoch: 0196 loss_train: 0.4868 acc_train: 0.7920 loss_val: 0.4828 acc_val: 0.8050 time: 0.0030s\n",
      "Epoch: 0197 loss_train: 0.4951 acc_train: 0.7865 loss_val: 0.4827 acc_val: 0.8050 time: 0.0031s\n",
      "Epoch: 0198 loss_train: 0.4993 acc_train: 0.8020 loss_val: 0.4826 acc_val: 0.8060 time: 0.0028s\n",
      "Epoch: 0199 loss_train: 0.4937 acc_train: 0.7895 loss_val: 0.4826 acc_val: 0.8060 time: 0.0030s\n",
      "Epoch: 0200 loss_train: 0.5028 acc_train: 0.7945 loss_val: 0.4827 acc_val: 0.8050 time: 0.0030s\n",
      "Optimization Finished!\n",
      "Total time elapsed: 0.9453s\n",
      "Test set results: loss= 0.4666 accuracy= 0.8109\n"
     ]
    }
   ],
   "source": [
    "#Training\n",
    "fastmode = False\n",
    "\n",
    "def train(epoch):\n",
    "    t = time.time()\n",
    "    model.train()\n",
    "    optimizer.zero_grad()\n",
    "    output = model(features, adj)\n",
    "    loss_train = F.nll_loss(output[idx_train], labels[idx_train])\n",
    "    acc_train = accuracy(output[idx_train], labels[idx_train])\n",
    "    loss_train.backward()\n",
    "    optimizer.step()\n",
    "\n",
    "    if not fastmode:\n",
    "        # Evaluate validation set performance separately,\n",
    "        # deactivates dropout during validation run.\n",
    "        model.eval()\n",
    "        output = model(features, adj)\n",
    "\n",
    "    loss_val = F.nll_loss(output[idx_val], labels[idx_val])\n",
    "    acc_val = accuracy(output[idx_val], labels[idx_val])\n",
    "    print('Epoch: {:04d}'.format(epoch+1),\n",
    "          'loss_train: {:.4f}'.format(loss_train.item()),\n",
    "          'acc_train: {:.4f}'.format(acc_train.item()),\n",
    "          'loss_val: {:.4f}'.format(loss_val.item()),\n",
    "          'acc_val: {:.4f}'.format(acc_val.item()),\n",
    "          'time: {:.4f}s'.format(time.time() - t))\n",
    "\n",
    "\n",
    "def test():\n",
    "    model.eval()\n",
    "    output = model(features, adj)\n",
    "    loss_test = F.nll_loss(output[idx_test], labels[idx_test])\n",
    "    acc_test = accuracy(output[idx_test], labels[idx_test])\n",
    "    print(\"Test set results:\",\n",
    "          \"loss= {:.4f}\".format(loss_test.item()),\n",
    "          \"accuracy= {:.4f}\".format(acc_test.item()))\n",
    "\n",
    "\n",
    "# Train model\n",
    "t_total = time.time()\n",
    "for epoch in range(200):\n",
    "    train(epoch)\n",
    "print(\"Optimization Finished!\")\n",
    "print(\"Total time elapsed: {:.4f}s\".format(time.time() - t_total))\n",
    "\n",
    "# Testing\n",
    "test()"
   ]
  },
  {
   "cell_type": "code",
   "execution_count": null,
   "metadata": {},
   "outputs": [],
   "source": []
  }
 ],
 "metadata": {
  "kernelspec": {
   "display_name": "Python 3",
   "language": "python",
   "name": "python3"
  },
  "language_info": {
   "codemirror_mode": {
    "name": "ipython",
    "version": 3
   },
   "file_extension": ".py",
   "mimetype": "text/x-python",
   "name": "python",
   "nbconvert_exporter": "python",
   "pygments_lexer": "ipython3",
   "version": "3.6.10"
  }
 },
 "nbformat": 4,
 "nbformat_minor": 4
}
